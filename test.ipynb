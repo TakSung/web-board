{
 "cells": [
  {
   "cell_type": "code",
   "execution_count": 1,
   "metadata": {},
   "outputs": [
    {
     "name": "stdout",
     "output_type": "stream",
     "text": [
      "before [1, 2, 3, 5, 6, 7, 8]\n",
      "after [1, 2, 3, 4, 6, 7, 8]\n"
     ]
    }
   ],
   "source": [
    "a = [1,2,3,5,6,7,8]\n",
    "print(\"before\", a)\n",
    "a[3] = 4\n",
    "print(\"after\", a)"
   ]
  }
 ],
 "metadata": {
  "kernelspec": {
   "display_name": "flask",
   "language": "python",
   "name": "python3"
  },
  "language_info": {
   "codemirror_mode": {
    "name": "ipython",
    "version": 3
   },
   "file_extension": ".py",
   "mimetype": "text/x-python",
   "name": "python",
   "nbconvert_exporter": "python",
   "pygments_lexer": "ipython3",
   "version": "3.11.10"
  }
 },
 "nbformat": 4,
 "nbformat_minor": 2
}
