{
 "cells": [
  {
   "cell_type": "code",
   "execution_count": 1,
   "metadata": {},
   "outputs": [
    {
     "name": "stdout",
     "output_type": "stream",
     "text": [
      "before [1, 2, 3, 5, 6, 7, 8]\n",
      "after [1, 2, 3, 4, 6, 7, 8]\n"
     ]
    }
   ],
   "source": [
    "a = [1,2,3,5,6,7,8]\n",
    "print(\"before\", a)\n",
    "a[3] = 4\n",
    "print(\"after\", a)"
   ]
  },
  {
   "cell_type": "code",
   "execution_count": 4,
   "metadata": {},
   "outputs": [
    {
     "name": "stdout",
     "output_type": "stream",
     "text": [
      "Post(id=1, title='첫 번째 게시물', content='이것은 첫 번째 게시물입니다.', user_id=1)\n",
      "Post(id=2, title='두 번째 게시물', content='이것은 두 번째 게시물입니다.', user_id=2)\n"
     ]
    }
   ],
   "source": [
    "from dataclasses import dataclass\n",
    "@dataclass\n",
    "class Post:\n",
    "    id:int\n",
    "    title:str\n",
    "    content:str\n",
    "    user_id:str\n",
    "    \n",
    "posts = {\n",
    "    1:Post(id=1, title=\"첫 번째 게시물\", content=\"이것은 첫 번째 게시물입니다.\", user_id=1),\n",
    "    2:Post(id=2, title=\"두 번째 게시물\", content=\"이것은 두 번째 게시물입니다.\", user_id=2),\n",
    "}\n",
    "\n",
    "for i in posts.values():\n",
    "    print(i)"
   ]
  }
 ],
 "metadata": {
  "kernelspec": {
   "display_name": "crl",
   "language": "python",
   "name": "python3"
  },
  "language_info": {
   "codemirror_mode": {
    "name": "ipython",
    "version": 3
   },
   "file_extension": ".py",
   "mimetype": "text/x-python",
   "name": "python",
   "nbconvert_exporter": "python",
   "pygments_lexer": "ipython3",
   "version": "3.11.8"
  }
 },
 "nbformat": 4,
 "nbformat_minor": 2
}
